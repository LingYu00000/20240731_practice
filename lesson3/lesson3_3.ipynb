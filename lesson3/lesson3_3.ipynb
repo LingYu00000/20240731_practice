{
 "cells": [
  {
   "cell_type": "code",
   "execution_count": 17,
   "metadata": {},
   "outputs": [
    {
     "name": "stdout",
     "output_type": "stream",
     "text": [
      "1000.0台斤=600.0公斤\n"
     ]
    }
   ],
   "source": [
    "kg_taiwan=float(input(\"請輸入台斤:\"))\n",
    "kg=kg_taiwan*0.6\n",
    "#print(str(kg_taiwan)+\"台斤=\"+str(kg)+\"公斤\")\n",
    "print(f\"{kg_taiwan}台斤={kg}公斤\")"
   ]
  },
  {
   "cell_type": "code",
   "execution_count": 8,
   "metadata": {},
   "outputs": [
    {
     "name": "stdout",
     "output_type": "stream",
     "text": [
      "77您好，您的BMI值為：21.6\n"
     ]
    }
   ],
   "source": [
    "a=input(\"請輸入姓名：\")\n",
    "b=float(input(\"請輸入身高(cm)：\"))\n",
    "c=float(input(\"請輸入體重(kg)：\"))\n",
    "d=round(c/((b/100)*(b/100)),2)\n",
    "print(f\"{a}您好，您的BMI值為：{d}\")"
   ]
  }
 ],
 "metadata": {
  "kernelspec": {
   "display_name": "Python 3",
   "language": "python",
   "name": "python3"
  },
  "language_info": {
   "codemirror_mode": {
    "name": "ipython",
    "version": 3
   },
   "file_extension": ".py",
   "mimetype": "text/x-python",
   "name": "python",
   "nbconvert_exporter": "python",
   "pygments_lexer": "ipython3",
   "version": "3.11.9"
  }
 },
 "nbformat": 4,
 "nbformat_minor": 2
}
