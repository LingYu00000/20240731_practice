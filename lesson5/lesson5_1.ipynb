{
 "cells": [
  {
   "cell_type": "code",
   "execution_count": 15,
   "metadata": {},
   "outputs": [
    {
     "name": "stdout",
     "output_type": "stream",
     "text": [
      "葛來分多加你是笨蛋嗎還想要什麼分\n"
     ]
    }
   ],
   "source": [
    "ch=int(input(\"請輸入國文分數：\"))\n",
    "mat=int(input(\"請輸入數學分數：\"))\n",
    "\n",
    "if ch==100:\n",
    "    if mat==100:\n",
    "        bonus=1000\n",
    "    else:\n",
    "        bonus=500\n",
    "else:\n",
    "    if mat==100:\n",
    "        bonus=500\n",
    "    else:\n",
    "        bonus=str(\"你是笨蛋嗎還想要什麼\")\n",
    "\n",
    "print(f\"葛來分多加{bonus}分\")\n"
   ]
  },
  {
   "cell_type": "code",
   "execution_count": 21,
   "metadata": {},
   "outputs": [
    {
     "name": "stdout",
     "output_type": "stream",
     "text": [
      "恭喜你得到0元\n"
     ]
    }
   ],
   "source": [
    "#使用邏輯運算子and或or\n",
    "ch=int(input(\"請輸入國文分數：\"))\n",
    "mat=int(input(\"請輸入數學分數：\"))\n",
    "\n",
    "if ch==100 and mat==100:\n",
    "    bonus=1000\n",
    "elif ch==100 or mat==100:\n",
    "    bonus=500\n",
    "else:\n",
    "    bonus=0\n",
    "print(f\"恭喜你得到{bonus}元\")"
   ]
  },
  {
   "cell_type": "code",
   "execution_count": 26,
   "metadata": {},
   "outputs": [
    {
     "name": "stdout",
     "output_type": "stream",
     "text": [
      "血壓正常\n"
     ]
    }
   ],
   "source": [
    "HR=int(input(\"請輸入血壓值：\"))\n",
    "if HR >=80 and HR<=120:\n",
    "    print(\"血壓正常\")\n",
    "else:\n",
    "    print(\"請快去就醫\")"
   ]
  },
  {
   "cell_type": "code",
   "execution_count": 27,
   "metadata": {},
   "outputs": [
    {
     "name": "stdout",
     "output_type": "stream",
     "text": [
      "血壓正常\n"
     ]
    }
   ],
   "source": [
    "HR=int(input(\"請輸入血壓值：\"))\n",
    "if 80<=HR<=120:\n",
    "#只有python可以像上面這樣寫\n",
    "    print(\"血壓正常\")\n",
    "else:\n",
    "    print(\"請快去就醫\")"
   ]
  }
 ],
 "metadata": {
  "kernelspec": {
   "display_name": "Python 3",
   "language": "python",
   "name": "python3"
  },
  "language_info": {
   "codemirror_mode": {
    "name": "ipython",
    "version": 3
   },
   "file_extension": ".py",
   "mimetype": "text/x-python",
   "name": "python",
   "nbconvert_exporter": "python",
   "pygments_lexer": "ipython3",
   "version": "3.11.9"
  }
 },
 "nbformat": 4,
 "nbformat_minor": 2
}
