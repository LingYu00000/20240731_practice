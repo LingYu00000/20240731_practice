{
 "cells": [
  {
   "cell_type": "code",
   "execution_count": 1,
   "metadata": {},
   "outputs": [
    {
     "name": "stdout",
     "output_type": "stream",
     "text": [
      "77您好，您的BMI值為：23.95，體重屬於:正常範圍\n"
     ]
    }
   ],
   "source": [
    "try:\n",
    "    name=input(\"請輸入姓名：\")\n",
    "    cm=float(input(\"請輸入身高(cm)：\"))\n",
    "    kg=float(input(\"請輸入體重(kg)：\"))\n",
    "except ValueError:\n",
    "    print('格式錯誤')\n",
    "else:\n",
    "    BMI=round(kg/(cm/100)**2,2)\n",
    "    if BMI>=35:\n",
    "        grade=\"重度肥胖\"\n",
    "    elif BMI >=30:\n",
    "        grade=\"中度肥胖\"\n",
    "    elif BMI >=27:\n",
    "        grade=\"輕度肥胖\"\n",
    "    elif BMI >=24:\n",
    "        grade=\"過重\"\n",
    "    elif BMI >=18.5:\n",
    "        grade=\"正常範圍\"\n",
    "    else:\n",
    "        grade=\"體重過輕\"\n",
    "    print(f\"{name}您好，您的BMI值為：{BMI}，體重屬於:{grade}\")\n"
   ]
  }
 ],
 "metadata": {
  "kernelspec": {
   "display_name": "Python 3",
   "language": "python",
   "name": "python3"
  },
  "language_info": {
   "codemirror_mode": {
    "name": "ipython",
    "version": 3
   },
   "file_extension": ".py",
   "mimetype": "text/x-python",
   "name": "python",
   "nbconvert_exporter": "python",
   "pygments_lexer": "ipython3",
   "version": "3.11.9"
  }
 },
 "nbformat": 4,
 "nbformat_minor": 2
}
