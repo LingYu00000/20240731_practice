{
 "cells": [
  {
   "cell_type": "code",
   "execution_count": 16,
   "metadata": {},
   "outputs": [
    {
     "name": "stdout",
     "output_type": "stream",
     "text": [
      "學生分數等級為：不及格\n"
     ]
    }
   ],
   "source": [
    "score=int(input(\"請輸入學生分數：\"))\n",
    "if score >=90:\n",
    "    grade=\"優\"\n",
    "elif score >=80:\n",
    "     grade=\"甲\"\n",
    "elif score >=70:\n",
    "     grade=\"乙\"\n",
    "elif score >=60:\n",
    "      grade=\"丙\"\n",
    "else:\n",
    "      grade=\"不及格\"\n",
    "print(f\"學生分數等級為：{grade}\")"
   ]
  },
  {
   "cell_type": "code",
   "execution_count": 18,
   "metadata": {},
   "outputs": [
    {
     "name": "stdout",
     "output_type": "stream",
     "text": [
      "小胖您好，您的BMI值為：40.0，體重屬於:重度肥胖\n"
     ]
    }
   ],
   "source": [
    "name=input(\"請輸入姓名：\")\n",
    "cm=float(input(\"請輸入身高(cm)：\"))\n",
    "kg=float(input(\"請輸入體重(kg)：\"))\n",
    "BMI=round(kg/((cm/100)**2,ndigits=2)\n",
    "\n",
    "if BMI>=35:\n",
    "    grade=\"重度肥胖\"\n",
    "elif BMI >=30:\n",
    "    grade=\"中度肥胖\"\n",
    "elif BMI >=27:\n",
    "    grade=\"輕度肥胖\"\n",
    "elif BMI >=24:\n",
    "    grade=\"過重\"\n",
    "elif BMI >=18.5:\n",
    "    grade=\"正常範圍\"\n",
    "else:\n",
    "    grade=\"體重過輕\"\n",
    "print(f\"{name}您好，您的BMI值為：{BMI}，體重屬於:{grade}\")\n"
   ]
  },
  {
   "cell_type": "code",
   "execution_count": null,
   "metadata": {},
   "outputs": [],
   "source": [
    "money= int(input(\"請輸入購買金額：\"))\n",
    "if money<10000:\n",
    "    "
   ]
  },
  {
   "cell_type": "code",
   "execution_count": 20,
   "metadata": {},
   "outputs": [
    {
     "name": "stdout",
     "output_type": "stream",
     "text": [
      "不可以考駕照\n"
     ]
    }
   ],
   "source": [
    "age=11\n",
    "\n",
    "if not age<18:\n",
    "    print(\"可以考駕照\")\n",
    "else:\n",
    "    print(\"不可以考駕照\")"
   ]
  }
 ],
 "metadata": {
  "kernelspec": {
   "display_name": "Python 3",
   "language": "python",
   "name": "python3"
  },
  "language_info": {
   "codemirror_mode": {
    "name": "ipython",
    "version": 3
   },
   "file_extension": ".py",
   "mimetype": "text/x-python",
   "name": "python",
   "nbconvert_exporter": "python",
   "pygments_lexer": "ipython3",
   "version": "3.11.9"
  }
 },
 "nbformat": 4,
 "nbformat_minor": 2
}
