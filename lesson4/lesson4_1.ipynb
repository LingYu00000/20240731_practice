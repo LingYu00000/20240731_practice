{
 "cells": [
  {
   "cell_type": "code",
   "execution_count": 3,
   "metadata": {},
   "outputs": [
    {
     "name": "stdout",
     "output_type": "stream",
     "text": [
      "不可以抽大麻\n"
     ]
    }
   ],
   "source": [
    "age=17\n",
    "\n",
    "if age>=18:\n",
    "    print(\"可以抽大麻\")\n",
    "else:\n",
    "    print(\"不可以抽大麻\")    "
   ]
  },
  {
   "cell_type": "code",
   "execution_count": 18,
   "metadata": {},
   "outputs": [
    {
     "name": "stdout",
     "output_type": "stream",
     "text": [
      "學生總分數是：158\n"
     ]
    }
   ],
   "source": [
    "#輸入學生分數，最高300分\n",
    "#要不要加分(y,n)\n",
    "#yes,總分加5%\n",
    "import math\n",
    "score=int(input(\"請輸入學生分數(最高300分)\"))\n",
    "is_add=input(\"學生是否符合加分條件?(是或否)\")\n",
    "\n",
    "if is_add==\"是\":\n",
    "    score*=1.05\n",
    "    score=math.ceil(score)\n",
    "\n",
    "print(f\"學生總分數是：{score}\")"
   ]
  },
  {
   "cell_type": "code",
   "execution_count": 28,
   "metadata": {},
   "outputs": [
    {
     "name": "stdout",
     "output_type": "stream",
     "text": [
      "格式錯誤\n",
      "應用程式結束\n"
     ]
    }
   ],
   "source": [
    "#輸入學生分數，最高300分\n",
    "#要不要加分(y,n)\n",
    "#yes,總分加5%\n",
    "import math\n",
    "try:\n",
    "    score=int(input(\"請輸入學生分數(最高300分)\"))\n",
    "except ValueError:\n",
    "    print(\"格式錯誤\")\n",
    "else:\n",
    "    is_add=input(\"學生是否符合加分條件?(是或否)\")\n",
    "    if is_add==\"是\":\n",
    "        score*=1.05\n",
    "        score=math.ceil(score)\n",
    "    if score>300:\n",
    "        score=300\n",
    "        print(f\"學生總分數是：{score}\")\n",
    "print(\"應用程式結束\")"
   ]
  },
  {
   "cell_type": "code",
   "execution_count": 31,
   "metadata": {},
   "outputs": [
    {
     "name": "stdout",
     "output_type": "stream",
     "text": [
      "不知名錯誤\n",
      "應用程式結束\n"
     ]
    }
   ],
   "source": [
    "#輸入學生分數，最高300分\n",
    "#要不要加分(y,n)\n",
    "#yes,總分加5%\n",
    "import math\n",
    "try:\n",
    "    score=int(input(\"請輸入學生分數(最高300分)\"))\n",
    "    raise NameError\n",
    "except ValueError:\n",
    "    print(\"格式錯誤\")\n",
    "except Exception:\n",
    "    print(\"不知名錯誤\")\n",
    "else:\n",
    "    is_add=input(\"學生是否符合加分條件?(是或否)\")\n",
    "    if is_add==\"是\":\n",
    "        score*=1.05\n",
    "        score=math.ceil(score)\n",
    "    if score>300:\n",
    "        score=300\n",
    "        print(f\"學生總分數是：{score}\")\n",
    "print(\"應用程式結束\")"
   ]
  },
  {
   "cell_type": "code",
   "execution_count": 39,
   "metadata": {},
   "outputs": [
    {
     "name": "stdout",
     "output_type": "stream",
     "text": [
      "超出範圍\n",
      "應用程式結束\n"
     ]
    }
   ],
   "source": [
    "#輸入學生分數，最高300分\n",
    "#要不要加分(y,n)\n",
    "#yes,總分加5%\n",
    "import math\n",
    "try:\n",
    "    score=int(input(\"請輸入學生分數(最高300分)\"))\n",
    "    if score>300:\n",
    "        raise Exception\n",
    "    if score<5:\n",
    "        raise Exception\n",
    "except ValueError:\n",
    "    print(\"格式錯誤\")\n",
    "except Exception:\n",
    "    print(\"超出範圍\")\n",
    "\n",
    "else:\n",
    "    is_add=input(\"學生是否符合加分條件?(是或否)\")\n",
    "    if is_add==\"是\":\n",
    "        score*=1.05\n",
    "        score=math.ceil(score)\n",
    "    if score>300:\n",
    "        score=300\n",
    "        print(f\"學生總分數是：{score}\")\n",
    "print(\"應用程式結束\")"
   ]
  },
  {
   "cell_type": "code",
   "execution_count": 40,
   "metadata": {},
   "outputs": [
    {
     "name": "stdout",
     "output_type": "stream",
     "text": [
      "超出範圍\n",
      "應用程式結束\n"
     ]
    }
   ],
   "source": [
    "#輸入學生分數，最高300分\n",
    "#要不要加分(y,n)\n",
    "#yes,總分加5%\n",
    "import math\n",
    "try:\n",
    "    score=int(input(\"請輸入學生分數(最高300分)\"))\n",
    "    if score>300:\n",
    "        raise Exception\n",
    "    if score<5:\n",
    "        raise Exception\n",
    "    is_add=input(\"學生是否符合加分條件?(是或否)\")\n",
    "    if is_add==\"是\":\n",
    "        score*=1.05\n",
    "        score=math.ceil(score)\n",
    "    if score>300:\n",
    "        score=300\n",
    "        print(f\"學生總分數是：{score}\")\n",
    "except ValueError:\n",
    "    print(\"格式錯誤\")\n",
    "except Exception:\n",
    "    print(\"超出範圍\")\n",
    "print(\"應用程式結束\")"
   ]
  }
 ],
 "metadata": {
  "kernelspec": {
   "display_name": "Python 3",
   "language": "python",
   "name": "python3"
  },
  "language_info": {
   "codemirror_mode": {
    "name": "ipython",
    "version": 3
   },
   "file_extension": ".py",
   "mimetype": "text/x-python",
   "name": "python",
   "nbconvert_exporter": "python",
   "pygments_lexer": "ipython3",
   "version": "3.11.9"
  }
 },
 "nbformat": 4,
 "nbformat_minor": 2
}
